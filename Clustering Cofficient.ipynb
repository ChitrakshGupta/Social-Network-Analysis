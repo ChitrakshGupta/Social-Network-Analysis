{
 "cells": [
  {
   "cell_type": "markdown",
   "id": "fafef088",
   "metadata": {},
   "source": [
    "# calculation of clustering cofficient"
   ]
  },
  {
   "cell_type": "code",
   "execution_count": 2,
   "id": "4ffc3e92",
   "metadata": {},
   "outputs": [],
   "source": [
    "import numpy as np\n",
    "import matplotlib.pyplot as plt"
   ]
  },
  {
   "cell_type": "code",
   "execution_count": 6,
   "id": "9471930e",
   "metadata": {},
   "outputs": [
    {
     "name": "stdout",
     "output_type": "stream",
     "text": [
      "no of nodes8\n",
      "row\n",
      "0 1 1 0 0 1 0 0\n",
      "1 0 1 0 0 1 0 1\n",
      "1 1 0 1 0 0 0 1\n",
      "0 0 1 0 1 1 0 0 \n",
      "0 0 0 1 0 1 0 0\n",
      "1 1 0 1 1 0 1 0\n",
      "0 0 0 0 0 1 0 0\n",
      "0 1 1 0 0 0 0 0\n"
     ]
    }
   ],
   "source": [
    "n = int(input(\"no of nodes\"))\n",
    "print(\"row\")\n",
    "matrix = []\n",
    "for i in range(n):\n",
    "    row = list(map(int, input().split()))\n",
    "    matrix.append(row)\n",
    "matrix=np.array(matrix)\n",
    "graph=matrix"
   ]
  },
  {
   "cell_type": "code",
   "execution_count": 7,
   "id": "381d8773",
   "metadata": {},
   "outputs": [],
   "source": [
    "def count_triangles(graph, node):\n",
    "    near = []\n",
    "    for i, has_edge in enumerate(graph[node]):\n",
    "        if has_edge:\n",
    "            near.append(i)\n",
    "\n",
    "    count = 0\n",
    "    for i in near:\n",
    "        for j in near:\n",
    "            if i != j and graph[i][j]:\n",
    "                count += 1\n",
    "    return count // 2\n",
    "\n"
   ]
  },
  {
   "cell_type": "code",
   "execution_count": 8,
   "id": "b6c711f0",
   "metadata": {},
   "outputs": [],
   "source": [
    "def clustering_coefficient(graph, node):\n",
    "    near = sum(graph[node])\n",
    "    if near < 2:\n",
    "        return 0, 0 \n",
    "    triangles = count_triangles(graph, node)\n",
    "    return triangles, triangles / (near * (near - 1) / 2)\n",
    "\n"
   ]
  },
  {
   "cell_type": "code",
   "execution_count": 9,
   "id": "a4e60c1a",
   "metadata": {},
   "outputs": [
    {
     "name": "stdout",
     "output_type": "stream",
     "text": [
      "Node 0: Triangles=2, Clustering Coefficient=0.67\n",
      "Node 1: Triangles=3, Clustering Coefficient=0.50\n",
      "Node 2: Triangles=2, Clustering Coefficient=0.33\n",
      "Node 3: Triangles=1, Clustering Coefficient=0.33\n",
      "Node 4: Triangles=1, Clustering Coefficient=1.00\n",
      "Node 5: Triangles=2, Clustering Coefficient=0.20\n",
      "Node 6: Triangles=0, Clustering Coefficient=0.00\n",
      "Node 7: Triangles=1, Clustering Coefficient=1.00\n",
      "Average Clustering Coefficient: 0.5041666666666667\n"
     ]
    }
   ],
   "source": [
    "num = 0\n",
    "for node in range(len(graph)):\n",
    "    triangles, coefficient = clustering_coefficient(graph, node)\n",
    "    num += coefficient\n",
    "    print(f\"Node {node}: Triangles={triangles}, Clustering Coefficient={coefficient:.2f}\")\n",
    "\n",
    "\n",
    "average_coefficient = num / len(graph)\n",
    "print(\"Average Clustering Coefficient:\", average_coefficient)\n"
   ]
  },
  {
   "cell_type": "code",
   "execution_count": null,
   "id": "41e204ca",
   "metadata": {},
   "outputs": [],
   "source": []
  }
 ],
 "metadata": {
  "kernelspec": {
   "display_name": "Python 3 (ipykernel)",
   "language": "python",
   "name": "python3"
  },
  "language_info": {
   "codemirror_mode": {
    "name": "ipython",
    "version": 3
   },
   "file_extension": ".py",
   "mimetype": "text/x-python",
   "name": "python",
   "nbconvert_exporter": "python",
   "pygments_lexer": "ipython3",
   "version": "3.11.5"
  }
 },
 "nbformat": 4,
 "nbformat_minor": 5
}
