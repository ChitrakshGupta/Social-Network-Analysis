{
 "cells": [
  {
   "cell_type": "markdown",
   "id": "40fd84bf",
   "metadata": {},
   "source": [
    "# Given an social network in form of adjaciency matrix  and seed set calculate influence of seed set based on ic model(independent Cascade model)\n"
   ]
  },
  {
   "cell_type": "code",
   "execution_count": 1,
   "id": "62ba73f9",
   "metadata": {},
   "outputs": [
    {
     "name": "stdout",
     "output_type": "stream",
     "text": [
      "The average influence of the seed set is 2.07 nodes.\n"
     ]
    }
   ],
   "source": [
    "import random\n",
    "\n",
    "def independent_cascade(graph, seed_set):\n",
    "    active = set(seed_set)\n",
    "    newly_active = set(seed_set)\n",
    "\n",
    "    while newly_active:\n",
    "        next_newly_active = set()\n",
    "        for node in newly_active:\n",
    "            for neighbor, probability in graph[node]:\n",
    "                if neighbor not in active and random.random() < probability:\n",
    "                    active.add(neighbor)\n",
    "                    next_newly_active.add(neighbor)\n",
    "        newly_active = next_newly_active\n",
    "\n",
    "    return len(active)\n",
    "\n",
    "def sigma_s(graph, seed_set, iterations=1000):\n",
    "    \"\"\"\n",
    "    Compute the average influence spread of seed set S in graph.\n",
    "    :param graph: The graph.\n",
    "    :param seed_set: The seed set.\n",
    "    :param iterations: The number of times to run the simulation.\n",
    "    :return: The average influence spread.\n",
    "    \"\"\"\n",
    "    total_influence = sum(independent_cascade(graph, seed_set) for _ in range(iterations))\n",
    "    return total_influence / iterations\n",
    "\n",
    "# Example graph\n",
    "graph = {\n",
    "    0: [(1, 0.3), (2, 0.6)],\n",
    "    1: [(0, 0.3), (2, 0.4)],\n",
    "    2: [(0, 0.6), (1, 0.4)]\n",
    "}\n",
    "\n",
    "# Example seed set\n",
    "seed_set = {0}\n",
    "\n",
    "# Compute sigma(S)\n",
    "average_influence = sigma_s(graph, seed_set, 1000)\n",
    "print(f\"The average influence of the seed set is {average_influence:.2f} nodes.\")\n"
   ]
  },
  {
   "cell_type": "code",
   "execution_count": null,
   "id": "9538463c",
   "metadata": {},
   "outputs": [],
   "source": []
  },
  {
   "cell_type": "code",
   "execution_count": null,
   "id": "60e9c54a",
   "metadata": {},
   "outputs": [],
   "source": []
  }
 ],
 "metadata": {
  "kernelspec": {
   "display_name": "Python 3 (ipykernel)",
   "language": "python",
   "name": "python3"
  },
  "language_info": {
   "codemirror_mode": {
    "name": "ipython",
    "version": 3
   },
   "file_extension": ".py",
   "mimetype": "text/x-python",
   "name": "python",
   "nbconvert_exporter": "python",
   "pygments_lexer": "ipython3",
   "version": "3.11.5"
  }
 },
 "nbformat": 4,
 "nbformat_minor": 5
}
