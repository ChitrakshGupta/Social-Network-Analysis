{
 "cells": [
  {
   "cell_type": "markdown",
   "id": "1bf86072",
   "metadata": {},
   "source": [
    "# Given an social network in form of adjaciency matrix  and seed set calculate influence of seed set based on LT model(Linear Threshold model)\n"
   ]
  },
  {
   "cell_type": "code",
   "execution_count": 2,
   "id": "e8878249",
   "metadata": {},
   "outputs": [
    {
     "data": {
      "text/plain": [
       "2.259"
      ]
     },
     "execution_count": 2,
     "metadata": {},
     "output_type": "execute_result"
    }
   ],
   "source": [
    "import random\n",
    "\n",
    "# Network edges with probabilities\n",
    "edges_with_probs = [(0, 1, 0.3), (0, 2, 0.6), (1, 0, 0.3), (1, 2, 0.4), (2, 0, 0.6), (2, 1, 0.4)]\n",
    "\n",
    "# Initial seed set\n",
    "seed_set = {0}\n",
    "\n",
    "# Function to simulate the Linear Threshold model\n",
    "def simulate_lt(edges, seed_set, iterations=1000):\n",
    "    total_spread = 0\n",
    "    for _ in range(iterations):\n",
    "        active = set(seed_set)\n",
    "        thresholds = {node: random.random() for node in set([e[0] for e in edges] + [e[1] for e in edges])}\n",
    "        while True:\n",
    "            new_active = set()\n",
    "            for node in thresholds:\n",
    "                if node not in active and sum(edge[2] for edge in edges if edge[1] == node and edge[0] in active) >= thresholds[node]:\n",
    "                    new_active.add(node)\n",
    "            if not new_active:\n",
    "                break\n",
    "            active.update(new_active)\n",
    "        total_spread += len(active)\n",
    "    return total_spread / iterations\n",
    "\n",
    "lt_influence = simulate_lt(edges_with_probs, seed_set)\n",
    "\n",
    "lt_influence"
   ]
  },
  {
   "cell_type": "code",
   "execution_count": null,
   "id": "c1287a91",
   "metadata": {},
   "outputs": [],
   "source": []
  }
 ],
 "metadata": {
  "kernelspec": {
   "display_name": "Python 3 (ipykernel)",
   "language": "python",
   "name": "python3"
  },
  "language_info": {
   "codemirror_mode": {
    "name": "ipython",
    "version": 3
   },
   "file_extension": ".py",
   "mimetype": "text/x-python",
   "name": "python",
   "nbconvert_exporter": "python",
   "pygments_lexer": "ipython3",
   "version": "3.11.5"
  }
 },
 "nbformat": 4,
 "nbformat_minor": 5
}
