{
 "cells": [
  {
   "cell_type": "markdown",
   "id": "fcf0574e",
   "metadata": {},
   "source": [
    "Dataset: https://snap.stanford.edu/data/email-Enron.html"
   ]
  },
  {
   "cell_type": "code",
   "execution_count": 1,
   "id": "75a8a14e",
   "metadata": {},
   "outputs": [],
   "source": [
    "import networkx as nx\n",
    "import matplotlib.pyplot as plt\n",
    "\n",
    "G1 =nx.read_edgelist(\"Email-Enron.txt\", create_using = nx.Graph(), nodetype=int)"
   ]
  },
  {
   "cell_type": "markdown",
   "id": "6f509f7e",
   "metadata": {},
   "source": [
    "# Degree disturbution"
   ]
  },
  {
   "cell_type": "code",
   "execution_count": 2,
   "id": "a6580eeb",
   "metadata": {},
   "outputs": [
    {
     "data": {
      "image/png": "[encoded data removed]",
      "text/plain": [
       "<Figure size 640x480 with 1 Axes>"
      ]
     },
     "metadata": {},
     "output_type": "display_data"
    }
   ],
   "source": [
    "import networkx as nx\n",
    "import matplotlib.pyplot as plt\n",
    "degrees = [degree for node, degree in G1.degree()]\n",
    "\n",
    "plt.hist(degrees, bins=30, alpha=0.75)\n",
    "plt.xlabel('Degree')\n",
    "plt.ylabel('Frequency')\n",
    "plt.title('Degree Distribution of Graph')\n",
    "plt.show()\n"
   ]
  },
  {
   "cell_type": "markdown",
   "id": "bbc0eaaa",
   "metadata": {},
   "source": [
    "# Clustering coefficient"
   ]
  },
  {
   "cell_type": "code",
   "execution_count": 3,
   "id": "8f420e03",
   "metadata": {},
   "outputs": [
    {
     "name": "stdout",
     "output_type": "stream",
     "text": [
      "0.49698255959950266\n"
     ]
    }
   ],
   "source": [
    "clustering_coff = nx.average_clustering(G1)\n",
    "print(clustering_coff)"
   ]
  },
  {
   "cell_type": "markdown",
   "id": "445353d4",
   "metadata": {},
   "source": [
    "**Centrality** Centrality metrics help identify important nodes in a network, there are four types of centrality and its four types\n",
    "1. **Degree Centrality**: Measures the number of connections a node has.\n",
    "2. **Closeness Centrality**: Measures how close a node is to all other nodes in the network.\n",
    "3. **Betweenness Centrality**: Measures how often a node appears on the shortest paths between other nodes.\n",
    "4. **Eigenvector Centrality**: Measures the influence of a node based on the influence of its neighbors.\n"
   ]
  },
  {
   "cell_type": "markdown",
   "id": "65859fbe",
   "metadata": {},
   "source": [
    "# Betweenness Centrality"
   ]
  },
  {
   "cell_type": "code",
   "execution_count": null,
   "id": "49804bd1",
   "metadata": {},
   "outputs": [],
   "source": [
    "pos = nx.spring_layout(G1)\n",
    "betCent = nx.betweenness_centrality(G1, normalized=True, endpoints=True)\n",
    "node_color = [20000.0 * G1.degree(v) for v in G1]\n",
    "node_size =  [v * 10000 for v in betCent.values()]\n",
    "plt.figure(figsize=(20,20))\n",
    "nx.draw_networkx(G1, pos=pos, with_labels=False,\n",
    "                 node_color=node_color,\n",
    "                 node_size=node_size )\n",
    "plt.axis('off')\n",
    "sorted(betCent, key=betCent.get, reverse=True)[:5]"
   ]
  },
  {
   "cell_type": "markdown",
   "id": "3a9e752b",
   "metadata": {},
   "source": [
    "# Degree Centrality"
   ]
  },
  {
   "cell_type": "code",
   "execution_count": null,
   "id": "17bc5fa1",
   "metadata": {},
   "outputs": [],
   "source": [
    "pos = nx.spring_layout(G1)\n",
    "degCent = nx.degree_centrality(G1)\n",
    "node_color = [20000.0 * G1.degree(v) for v in G1]\n",
    "node_size =  [v * 10000 for v in degCent.values()]\n",
    "plt.figure(figsize=(15,15))\n",
    "nx.draw_networkx(G1, pos=pos, with_labels=False,\n",
    "                 node_color=node_color,\n",
    "                 node_size=node_size )\n",
    "plt.axis('off')\n",
    "\n",
    "sorted(degCent, key=degCent.get, reverse=True)[:5]"
   ]
  },
  {
   "cell_type": "markdown",
   "id": "60d94320",
   "metadata": {},
   "source": [
    "# Closeness Centrality"
   ]
  },
  {
   "cell_type": "code",
   "execution_count": null,
   "id": "c865ef96",
   "metadata": {},
   "outputs": [],
   "source": [
    "pos = nx.spring_layout(G1)\n",
    "cloCent = nx.closeness_centrality(G1)\n",
    "node_color = [20000.0 * G1.degree(v) for v in G1]\n",
    "node_size =  [v * 10000 for v in cloCent.values()]\n",
    "plt.figure(figsize=(13,13))\n",
    "nx.draw_networkx(G1, pos=pos, with_labels=False,\n",
    "                 node_color=node_color,\n",
    "                 node_size=node_size )\n",
    "plt.axis('off')\n",
    "sorted(cloCent, key=cloCent.get, reverse=True)[:5]"
   ]
  },
  {
   "cell_type": "markdown",
   "id": "c6592af0",
   "metadata": {},
   "source": [
    "# Eigen vector centraility"
   ]
  },
  {
   "cell_type": "code",
   "execution_count": null,
   "id": "ae88e553",
   "metadata": {},
   "outputs": [],
   "source": [
    "#pos = nx.spring_layout(G1)\n",
    "eigCent = nx.eigenvector_centrality(G1)\n",
    "node_color = [20000.0 * G1.degree(v) for v in G1]\n",
    "node_size =  [v * 10000 for v in eigCent.values()]\n",
    "plt.figure(figsize=(15,15))\n",
    "nx.draw_networkx(G1, pos=pos, with_labels=False,\n",
    "                 node_color=node_color,\n",
    "                 node_size=node_size )\n",
    "plt.axis('off')"
   ]
  },
  {
   "cell_type": "markdown",
   "id": "fd080e74",
   "metadata": {},
   "source": [
    "# Distribution of shortest path length"
   ]
  },
  {
   "cell_type": "code",
   "execution_count": null,
   "id": "bfa8d49a",
   "metadata": {},
   "outputs": [],
   "source": [
    "avgpath = nx.average_shortest_path_length(G1)\n",
    "print(avgpath) # average path length"
   ]
  },
  {
   "cell_type": "code",
   "execution_count": 17,
   "id": "981228b1",
   "metadata": {},
   "outputs": [
    {
     "data": {
      "image/png": "[encoded data removed]",
      "text/plain": [
       "<Figure size 640x480 with 1 Axes>"
      ]
     },
     "metadata": {},
     "output_type": "display_data"
    }
   ],
   "source": [
    "import networkx as nx\n",
    "import matplotlib.pyplot as plt\n",
    "\n",
    "# Step 1: Read the file and create the graph\n",
    "file_path = \"facebook_combined.txt\"\n",
    "with open(file_path, \"r\") as file:\n",
    "    edges = [tuple(map(int, line.strip().split())) for line in file]\n",
    "\n",
    "graph = nx.Graph(edges)\n",
    "\n",
    "# Step 2: Get all pairs of nodes and calculate their shortest path lengths\n",
    "all_pairs_shortest_paths = dict(nx.all_pairs_shortest_path_length(graph))\n",
    "\n",
    "# Step 3: Extract the shortest path lengths from the all_pairs_shortest_paths dictionary\n",
    "all_shortest_paths = []\n",
    "for source in all_pairs_shortest_paths:\n",
    "    for target, length in all_pairs_shortest_paths[source].items():\n",
    "        all_shortest_paths.append(length)\n",
    "\n",
    "# Step 4: Plot histogram\n",
    "plt.hist(all_shortest_paths, bins=range(1, max(all_shortest_paths)+2), align='left', alpha=0.7)\n",
    "plt.title(\"Distribution of Shortest Path Lengths\")\n",
    "plt.xlabel(\"Shortest Path Length\")\n",
    "plt.ylabel(\"Frequency\")\n",
    "plt.grid(True)\n",
    "plt.show()"
   ]
  },
  {
   "cell_type": "code",
   "execution_count": null,
   "id": "92b785f1",
   "metadata": {},
   "outputs": [],
   "source": []
  }
 ],
 "metadata": {
  "kernelspec": {
   "display_name": "Python 3 (ipykernel)",
   "language": "python",
   "name": "python3"
  },
  "language_info": {
   "codemirror_mode": {
    "name": "ipython",
    "version": 3
   },
   "file_extension": ".py",
   "mimetype": "text/x-python",
   "name": "python",
   "nbconvert_exporter": "python",
   "pygments_lexer": "ipython3",
   "version": "3.11.5"
  }
 },
 "nbformat": 4,
 "nbformat_minor": 5
}
